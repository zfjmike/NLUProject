{
 "cells": [
  {
   "cell_type": "code",
   "execution_count": 36,
   "metadata": {},
   "outputs": [],
   "source": [
    "from rte.riedel.fever_features import TermFrequencyFeatureFunction\n",
    "from retrieval.fever_doc_db import FeverDocDB\n",
    "from common.dataset.data_set import DataSet\n",
    "from retrieval.sentence import FEVERSentenceFormatter\n",
    "from common.dataset.reader import JSONLineReader\n",
    "from rte.riedel.data import FEVERGoldFormatter, FEVERLabelSchema\n",
    "import numpy as np\n",
    "from sklearn.metrics.pairwise import cosine_similarity"
   ]
  },
  {
   "cell_type": "code",
   "execution_count": 17,
   "metadata": {},
   "outputs": [],
   "source": [
    "db = FeverDocDB(\"data/fever/fever.db\")\n",
    "jlr = JSONLineReader()\n",
    "formatter = FEVERGoldFormatter(set(),FEVERLabelSchema())"
   ]
  },
  {
   "cell_type": "code",
   "execution_count": 21,
   "metadata": {},
   "outputs": [],
   "source": [
    "train_ds = DataSet(file=\"data/fever/train.ns.pages.p{0}.jsonl\".format(1), reader=jlr, formatter=formatter)\n",
    "dev_ds = DataSet(file=\"data/fever/dev.ns.pages.p{0}.jsonl\".format(1), reader=jlr, formatter=formatter)"
   ]
  },
  {
   "cell_type": "code",
   "execution_count": 22,
   "metadata": {},
   "outputs": [],
   "source": [
    "train_ds.read()\n",
    "dev_ds.read()"
   ]
  },
  {
   "cell_type": "code",
   "execution_count": 39,
   "metadata": {},
   "outputs": [],
   "source": [
    "class XTermFrequencyFeatureFunction(TermFrequencyFeatureFunction):\n",
    "    def texts(self,data):\n",
    "        return [item[\"text\"] for item in data] \n",
    "\n",
    "    def process(self,data):\n",
    "        claim_bow = self.bow_vectorizer.transform(self.claims(data))\n",
    "        claim_tfs = self.tfreq_vectorizer.transform(claim_bow)\n",
    "        claim_tfidf = self.tfidf_vectorizer.transform(self.claims(data))\n",
    "\n",
    "        body_texts = self.texts(data)\n",
    "        body_bow = self.bow_vectorizer.transform(body_texts)\n",
    "        body_tfs = self.tfreq_vectorizer.transform(body_bow)\n",
    "        body_tfidf = self.tfidf_vectorizer.transform(body_texts)\n",
    "\n",
    "        cosines = np.array([cosine_similarity(c, b)[0] for c,b in zip(claim_tfidf,body_tfidf)])\n",
    "\n",
    "        return cosines\n",
    "\n",
    "    \n",
    "tf = XTermFrequencyFeatureFunction(db)\n",
    "tf.inform(train_ds.data, dev_ds.data)"
   ]
  },
  {
   "cell_type": "code",
   "execution_count": 41,
   "metadata": {},
   "outputs": [
    {
     "data": {
      "text/plain": [
       "[1.0, 0.5254255747637875]"
      ]
     },
     "execution_count": 41,
     "metadata": {},
     "output_type": "execute_result"
    }
   ],
   "source": [
    "def tf_idf_sim(claim,lines):\n",
    "    test = []\n",
    "    for line in lines:\n",
    "        test.append({\"claim\":claim,\"text\":line})\n",
    "        \n",
    "    return tf.lookup(test).reshape(-1).tolist()\n",
    "\n",
    "tf_idf_sim(\"This is at test\",[\"This is a test\",\"A completely different claim about something that test is random and unrelated\"])"
   ]
  },
  {
   "cell_type": "code",
   "execution_count": null,
   "metadata": {
    "collapsed": true
   },
   "outputs": [],
   "source": []
  }
 ],
 "metadata": {
  "kernelspec": {
   "display_name": "pytorch",
   "language": "python",
   "name": "pytorch"
  },
  "language_info": {
   "codemirror_mode": {
    "name": "ipython",
    "version": 3
   },
   "file_extension": ".py",
   "mimetype": "text/x-python",
   "name": "python",
   "nbconvert_exporter": "python",
   "pygments_lexer": "ipython3",
   "version": "3.6.3"
  }
 },
 "nbformat": 4,
 "nbformat_minor": 2
}
